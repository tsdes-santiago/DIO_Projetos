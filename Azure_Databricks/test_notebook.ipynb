{
 "cells": [
  {
   "cell_type": "code",
   "execution_count": 2,
   "id": "d611bbad",
   "metadata": {},
   "outputs": [],
   "source": [
    "import pandas as pd"
   ]
  },
  {
   "cell_type": "code",
   "execution_count": 4,
   "id": "a50e3c78",
   "metadata": {},
   "outputs": [],
   "source": [
    "url = 'https://raw.githubusercontent.com/MicrosoftLearning/mslearn-databricks/main/data/products.csv'\n",
    "df = pd.read_csv(url)   "
   ]
  },
  {
   "cell_type": "code",
   "execution_count": 5,
   "id": "b99ee3b4",
   "metadata": {},
   "outputs": [
    {
     "data": {
      "application/vnd.microsoft.datawrangler.viewer.v0+json": {
       "columns": [
        {
         "name": "index",
         "rawType": "int64",
         "type": "integer"
        },
        {
         "name": "ProductID",
         "rawType": "int64",
         "type": "integer"
        },
        {
         "name": "ProductName",
         "rawType": "object",
         "type": "string"
        },
        {
         "name": "Category",
         "rawType": "object",
         "type": "string"
        },
        {
         "name": "ListPrice",
         "rawType": "float64",
         "type": "float"
        }
       ],
       "ref": "8a8d7426-008c-4032-bcc7-d76ec9d4cb16",
       "rows": [
        [
         "0",
         "771",
         "Mountain-100 Silver, 38",
         "Mountain Bikes",
         "3399.99"
        ],
        [
         "1",
         "772",
         "Mountain-100 Silver, 42",
         "Mountain Bikes",
         "3399.99"
        ],
        [
         "2",
         "773",
         "Mountain-100 Silver, 44",
         "Mountain Bikes",
         "3399.99"
        ],
        [
         "3",
         "774",
         "Mountain-100 Silver, 48",
         "Mountain Bikes",
         "3399.99"
        ],
        [
         "4",
         "775",
         "Mountain-100 Black, 38",
         "Mountain Bikes",
         "3374.99"
        ]
       ],
       "shape": {
        "columns": 4,
        "rows": 5
       }
      },
      "text/html": [
       "<div>\n",
       "<style scoped>\n",
       "    .dataframe tbody tr th:only-of-type {\n",
       "        vertical-align: middle;\n",
       "    }\n",
       "\n",
       "    .dataframe tbody tr th {\n",
       "        vertical-align: top;\n",
       "    }\n",
       "\n",
       "    .dataframe thead th {\n",
       "        text-align: right;\n",
       "    }\n",
       "</style>\n",
       "<table border=\"1\" class=\"dataframe\">\n",
       "  <thead>\n",
       "    <tr style=\"text-align: right;\">\n",
       "      <th></th>\n",
       "      <th>ProductID</th>\n",
       "      <th>ProductName</th>\n",
       "      <th>Category</th>\n",
       "      <th>ListPrice</th>\n",
       "    </tr>\n",
       "  </thead>\n",
       "  <tbody>\n",
       "    <tr>\n",
       "      <th>0</th>\n",
       "      <td>771</td>\n",
       "      <td>Mountain-100 Silver, 38</td>\n",
       "      <td>Mountain Bikes</td>\n",
       "      <td>3399.99</td>\n",
       "    </tr>\n",
       "    <tr>\n",
       "      <th>1</th>\n",
       "      <td>772</td>\n",
       "      <td>Mountain-100 Silver, 42</td>\n",
       "      <td>Mountain Bikes</td>\n",
       "      <td>3399.99</td>\n",
       "    </tr>\n",
       "    <tr>\n",
       "      <th>2</th>\n",
       "      <td>773</td>\n",
       "      <td>Mountain-100 Silver, 44</td>\n",
       "      <td>Mountain Bikes</td>\n",
       "      <td>3399.99</td>\n",
       "    </tr>\n",
       "    <tr>\n",
       "      <th>3</th>\n",
       "      <td>774</td>\n",
       "      <td>Mountain-100 Silver, 48</td>\n",
       "      <td>Mountain Bikes</td>\n",
       "      <td>3399.99</td>\n",
       "    </tr>\n",
       "    <tr>\n",
       "      <th>4</th>\n",
       "      <td>775</td>\n",
       "      <td>Mountain-100 Black, 38</td>\n",
       "      <td>Mountain Bikes</td>\n",
       "      <td>3374.99</td>\n",
       "    </tr>\n",
       "  </tbody>\n",
       "</table>\n",
       "</div>"
      ],
      "text/plain": [
       "   ProductID              ProductName        Category  ListPrice\n",
       "0        771  Mountain-100 Silver, 38  Mountain Bikes    3399.99\n",
       "1        772  Mountain-100 Silver, 42  Mountain Bikes    3399.99\n",
       "2        773  Mountain-100 Silver, 44  Mountain Bikes    3399.99\n",
       "3        774  Mountain-100 Silver, 48  Mountain Bikes    3399.99\n",
       "4        775   Mountain-100 Black, 38  Mountain Bikes    3374.99"
      ]
     },
     "execution_count": 5,
     "metadata": {},
     "output_type": "execute_result"
    }
   ],
   "source": [
    "df.head()"
   ]
  },
  {
   "cell_type": "code",
   "execution_count": 8,
   "id": "3741336a",
   "metadata": {},
   "outputs": [
    {
     "name": "stdout",
     "output_type": "stream",
     "text": [
      "   ProductID              ProductName        Category  ListPrice\n",
      "0        771  Mountain-100 Silver, 38  Mountain Bikes    3399.99\n",
      "1        772  Mountain-100 Silver, 42  Mountain Bikes    3399.99\n",
      "2        773  Mountain-100 Silver, 44  Mountain Bikes    3399.99\n",
      "3        774  Mountain-100 Silver, 48  Mountain Bikes    3399.99\n",
      "4        775   Mountain-100 Black, 38  Mountain Bikes    3374.99\n"
     ]
    }
   ],
   "source": [
    "# Filtrar os produtos da categoria Mountain Bikes\n",
    "df_filtered = df[df['Category'] == 'Mountain Bikes']\n",
    "# Exibir os primeiros 5 produtos filtrados\n",
    "print(df_filtered.head())"
   ]
  },
  {
   "cell_type": "code",
   "execution_count": 10,
   "id": "466d2a5e",
   "metadata": {},
   "outputs": [
    {
     "data": {
      "application/vnd.microsoft.datawrangler.viewer.v0+json": {
       "columns": [
        {
         "name": "index",
         "rawType": "object",
         "type": "string"
        },
        {
         "name": "ProductID",
         "rawType": "float64",
         "type": "float"
        },
        {
         "name": "ListPrice",
         "rawType": "float64",
         "type": "float"
        }
       ],
       "ref": "c33dc395-9f81-4f5c-a7c8-92bdf1fe5f6f",
       "rows": [
        [
         "count",
         "295.0",
         "295.0"
        ],
        [
         "mean",
         "851.9152542372881",
         "744.595220338983"
        ],
        [
         "std",
         "85.46218643783028",
         "892.5631721729416"
        ],
        [
         "min",
         "680.0",
         "2.29"
        ],
        [
         "25%",
         "778.5",
         "66.745"
        ],
        [
         "50%",
         "852.0",
         "337.22"
        ],
        [
         "75%",
         "925.5",
         "1100.24"
        ],
        [
         "max",
         "999.0",
         "3578.27"
        ]
       ],
       "shape": {
        "columns": 2,
        "rows": 8
       }
      },
      "text/html": [
       "<div>\n",
       "<style scoped>\n",
       "    .dataframe tbody tr th:only-of-type {\n",
       "        vertical-align: middle;\n",
       "    }\n",
       "\n",
       "    .dataframe tbody tr th {\n",
       "        vertical-align: top;\n",
       "    }\n",
       "\n",
       "    .dataframe thead th {\n",
       "        text-align: right;\n",
       "    }\n",
       "</style>\n",
       "<table border=\"1\" class=\"dataframe\">\n",
       "  <thead>\n",
       "    <tr style=\"text-align: right;\">\n",
       "      <th></th>\n",
       "      <th>ProductID</th>\n",
       "      <th>ListPrice</th>\n",
       "    </tr>\n",
       "  </thead>\n",
       "  <tbody>\n",
       "    <tr>\n",
       "      <th>count</th>\n",
       "      <td>295.000000</td>\n",
       "      <td>295.000000</td>\n",
       "    </tr>\n",
       "    <tr>\n",
       "      <th>mean</th>\n",
       "      <td>851.915254</td>\n",
       "      <td>744.595220</td>\n",
       "    </tr>\n",
       "    <tr>\n",
       "      <th>std</th>\n",
       "      <td>85.462186</td>\n",
       "      <td>892.563172</td>\n",
       "    </tr>\n",
       "    <tr>\n",
       "      <th>min</th>\n",
       "      <td>680.000000</td>\n",
       "      <td>2.290000</td>\n",
       "    </tr>\n",
       "    <tr>\n",
       "      <th>25%</th>\n",
       "      <td>778.500000</td>\n",
       "      <td>66.745000</td>\n",
       "    </tr>\n",
       "    <tr>\n",
       "      <th>50%</th>\n",
       "      <td>852.000000</td>\n",
       "      <td>337.220000</td>\n",
       "    </tr>\n",
       "    <tr>\n",
       "      <th>75%</th>\n",
       "      <td>925.500000</td>\n",
       "      <td>1100.240000</td>\n",
       "    </tr>\n",
       "    <tr>\n",
       "      <th>max</th>\n",
       "      <td>999.000000</td>\n",
       "      <td>3578.270000</td>\n",
       "    </tr>\n",
       "  </tbody>\n",
       "</table>\n",
       "</div>"
      ],
      "text/plain": [
       "        ProductID    ListPrice\n",
       "count  295.000000   295.000000\n",
       "mean   851.915254   744.595220\n",
       "std     85.462186   892.563172\n",
       "min    680.000000     2.290000\n",
       "25%    778.500000    66.745000\n",
       "50%    852.000000   337.220000\n",
       "75%    925.500000  1100.240000\n",
       "max    999.000000  3578.270000"
      ]
     },
     "execution_count": 10,
     "metadata": {},
     "output_type": "execute_result"
    }
   ],
   "source": [
    "df.describe()"
   ]
  },
  {
   "cell_type": "code",
   "execution_count": 12,
   "id": "5e429fd9",
   "metadata": {},
   "outputs": [
    {
     "data": {
      "image/png": "[encoded data removed]",
      "text/plain": [
       "<Figure size 640x480 with 1 Axes>"
      ]
     },
     "metadata": {},
     "output_type": "display_data"
    }
   ],
   "source": [
    "# Plotar countagem de produtos por categoria\n",
    "import matplotlib.pyplot as plt\n",
    "df['Category'].value_counts().plot(kind='bar')\n",
    "plt.title('Count of Products by Category')\n",
    "plt.xlabel('Category')  \n",
    "plt.savefig('products_by_category.png')\n",
    "plt.show()  "
   ]
  }
 ],
 "metadata": {
  "kernelspec": {
   "display_name": "env-sklearn",
   "language": "python",
   "name": "env-sklearn"
  },
  "language_info": {
   "codemirror_mode": {
    "name": "ipython",
    "version": 3
   },
   "file_extension": ".py",
   "mimetype": "text/x-python",
   "name": "python",
   "nbconvert_exporter": "python",
   "pygments_lexer": "ipython3",
   "version": "3.13.3"
  }
 },
 "nbformat": 4,
 "nbformat_minor": 5
}
